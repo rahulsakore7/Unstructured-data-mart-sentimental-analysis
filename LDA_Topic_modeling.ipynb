{
 "cells": [
  {
   "cell_type": "code",
   "execution_count": 1,
   "metadata": {
    "collapsed": true
   },
   "outputs": [],
   "source": [
    "import pandas as pd"
   ]
  },
  {
   "cell_type": "code",
   "execution_count": 2,
   "metadata": {},
   "outputs": [
    {
     "name": "stderr",
     "output_type": "stream",
     "text": [
      "C:\\Users\\Rahul\\Anaconda3\\lib\\site-packages\\IPython\\core\\interactiveshell.py:2698: DtypeWarning: Columns (7) have mixed types. Specify dtype option on import or set low_memory=False.\n",
      "  interactivity=interactivity, compiler=compiler, result=result)\n"
     ]
    }
   ],
   "source": [
    "data = pd.read_csv('C:/Users/Rahul/Desktop/Capstone papers/Reviews.csv')"
   ]
  },
  {
   "cell_type": "code",
   "execution_count": 3,
   "metadata": {},
   "outputs": [
    {
     "data": {
      "text/html": [
       "<div>\n",
       "<style>\n",
       "    .dataframe thead tr:only-child th {\n",
       "        text-align: right;\n",
       "    }\n",
       "\n",
       "    .dataframe thead th {\n",
       "        text-align: left;\n",
       "    }\n",
       "\n",
       "    .dataframe tbody tr th {\n",
       "        vertical-align: top;\n",
       "    }\n",
       "</style>\n",
       "<table border=\"1\" class=\"dataframe\">\n",
       "  <thead>\n",
       "    <tr style=\"text-align: right;\">\n",
       "      <th></th>\n",
       "      <th>Id</th>\n",
       "      <th>ProductId</th>\n",
       "      <th>UserId</th>\n",
       "      <th>ProfileName</th>\n",
       "      <th>HelpfulnessNumerator</th>\n",
       "      <th>HelpfulnessDenominator</th>\n",
       "      <th>Score</th>\n",
       "      <th>Date</th>\n",
       "      <th>Time</th>\n",
       "      <th>Summary</th>\n",
       "      <th>Text</th>\n",
       "    </tr>\n",
       "  </thead>\n",
       "  <tbody>\n",
       "    <tr>\n",
       "      <th>0</th>\n",
       "      <td>1</td>\n",
       "      <td>B001E4KFG0</td>\n",
       "      <td>A3SGXH7AUHU8GW</td>\n",
       "      <td>delmartian</td>\n",
       "      <td>1</td>\n",
       "      <td>1</td>\n",
       "      <td>5</td>\n",
       "      <td>4/27/2011</td>\n",
       "      <td>1303862400</td>\n",
       "      <td>Good Quality Dog Food</td>\n",
       "      <td>I have bought several of the Vitality canned d...</td>\n",
       "    </tr>\n",
       "    <tr>\n",
       "      <th>1</th>\n",
       "      <td>2</td>\n",
       "      <td>B00813GRG4</td>\n",
       "      <td>A1D87F6ZCVE5NK</td>\n",
       "      <td>dll pa</td>\n",
       "      <td>0</td>\n",
       "      <td>0</td>\n",
       "      <td>1</td>\n",
       "      <td>9/7/2012</td>\n",
       "      <td>1346976000</td>\n",
       "      <td>Not as Advertised</td>\n",
       "      <td>Product arrived labeled as Jumbo Salted Peanut...</td>\n",
       "    </tr>\n",
       "    <tr>\n",
       "      <th>2</th>\n",
       "      <td>3</td>\n",
       "      <td>B000LQOCH0</td>\n",
       "      <td>ABXLMWJIXXAIN</td>\n",
       "      <td>Natalia Corres \"Natalia Corres\"</td>\n",
       "      <td>1</td>\n",
       "      <td>1</td>\n",
       "      <td>4</td>\n",
       "      <td>8/18/2008</td>\n",
       "      <td>1219017600</td>\n",
       "      <td>\"Delight\" says it all</td>\n",
       "      <td>This is a confection that has been around a fe...</td>\n",
       "    </tr>\n",
       "    <tr>\n",
       "      <th>3</th>\n",
       "      <td>4</td>\n",
       "      <td>B000UA0QIQ</td>\n",
       "      <td>A395BORC6FGVXV</td>\n",
       "      <td>Karl</td>\n",
       "      <td>3</td>\n",
       "      <td>3</td>\n",
       "      <td>2</td>\n",
       "      <td>6/13/2011</td>\n",
       "      <td>1307923200</td>\n",
       "      <td>Cough Medicine</td>\n",
       "      <td>If you are looking for the secret ingredient i...</td>\n",
       "    </tr>\n",
       "    <tr>\n",
       "      <th>4</th>\n",
       "      <td>5</td>\n",
       "      <td>B006K2ZZ7K</td>\n",
       "      <td>A1UQRSCLF8GW1T</td>\n",
       "      <td>Michael D. Bigham \"M. Wassir\"</td>\n",
       "      <td>0</td>\n",
       "      <td>0</td>\n",
       "      <td>5</td>\n",
       "      <td>10/21/2012</td>\n",
       "      <td>1350777600</td>\n",
       "      <td>Great taffy</td>\n",
       "      <td>Great taffy at a great price.  There was a wid...</td>\n",
       "    </tr>\n",
       "  </tbody>\n",
       "</table>\n",
       "</div>"
      ],
      "text/plain": [
       "   Id   ProductId          UserId                      ProfileName  \\\n",
       "0   1  B001E4KFG0  A3SGXH7AUHU8GW                       delmartian   \n",
       "1   2  B00813GRG4  A1D87F6ZCVE5NK                           dll pa   \n",
       "2   3  B000LQOCH0   ABXLMWJIXXAIN  Natalia Corres \"Natalia Corres\"   \n",
       "3   4  B000UA0QIQ  A395BORC6FGVXV                             Karl   \n",
       "4   5  B006K2ZZ7K  A1UQRSCLF8GW1T    Michael D. Bigham \"M. Wassir\"   \n",
       "\n",
       "   HelpfulnessNumerator  HelpfulnessDenominator  Score        Date  \\\n",
       "0                     1                       1      5   4/27/2011   \n",
       "1                     0                       0      1    9/7/2012   \n",
       "2                     1                       1      4   8/18/2008   \n",
       "3                     3                       3      2   6/13/2011   \n",
       "4                     0                       0      5  10/21/2012   \n",
       "\n",
       "         Time                Summary  \\\n",
       "0  1303862400  Good Quality Dog Food   \n",
       "1  1346976000      Not as Advertised   \n",
       "2  1219017600  \"Delight\" says it all   \n",
       "3  1307923200         Cough Medicine   \n",
       "4  1350777600            Great taffy   \n",
       "\n",
       "                                                Text  \n",
       "0  I have bought several of the Vitality canned d...  \n",
       "1  Product arrived labeled as Jumbo Salted Peanut...  \n",
       "2  This is a confection that has been around a fe...  \n",
       "3  If you are looking for the secret ingredient i...  \n",
       "4  Great taffy at a great price.  There was a wid...  "
      ]
     },
     "execution_count": 3,
     "metadata": {},
     "output_type": "execute_result"
    }
   ],
   "source": [
    "data.head(5)"
   ]
  },
  {
   "cell_type": "code",
   "execution_count": 4,
   "metadata": {},
   "outputs": [
    {
     "data": {
      "text/plain": [
       "(568454,)"
      ]
     },
     "execution_count": 4,
     "metadata": {},
     "output_type": "execute_result"
    }
   ],
   "source": [
    "review = data['Text']\n",
    "review.shape"
   ]
  },
  {
   "cell_type": "code",
   "execution_count": 6,
   "metadata": {
    "collapsed": true
   },
   "outputs": [],
   "source": [
    "import nltk\n",
    "import string\n",
    "from nltk.stem.porter import PorterStemmer"
   ]
  },
  {
   "cell_type": "code",
   "execution_count": 7,
   "metadata": {
    "collapsed": true
   },
   "outputs": [],
   "source": [
    "stemmer = PorterStemmer()\n",
    "from nltk.corpus import stopwords\n",
    "\n",
    "def stem_tokens(tokens, stemmer):\n",
    "    stemmed = []\n",
    "    for item in tokens:\n",
    "        stemmed.append(stemmer.stem(item))\n",
    "    return stemmed\n",
    "\n",
    "def tokenize(text):\n",
    "    tokens = nltk.word_tokenize(text)\n",
    "    #tokens = [word for word in tokens if word not in stopwords.words('english')]\n",
    "    stems = stem_tokens(tokens, stemmer)\n",
    "    return ' '.join(stems)\n",
    "\n",
    "intab = string.punctuation\n",
    "outtab = \"                                \"\n",
    "trantab = str.maketrans(intab, outtab)\n",
    "\n",
    "#--- Training set\n",
    "\n",
    "corpus = []\n",
    "for text in review:\n",
    "    \n",
    "    text = text.lower()\n",
    "    text = text.translate(trantab)\n",
    "    text=tokenize(text)\n",
    "    corpus.append(text)"
   ]
  },
  {
   "cell_type": "code",
   "execution_count": 8,
   "metadata": {
    "collapsed": true
   },
   "outputs": [],
   "source": [
    "from sklearn.feature_extraction.text import CountVectorizer"
   ]
  },
  {
   "cell_type": "code",
   "execution_count": 10,
   "metadata": {},
   "outputs": [],
   "source": [
    "vectorizer = CountVectorizer(min_df=0)\n",
    "text_transform = vectorizer.fit_transform(corpus)"
   ]
  },
  {
   "cell_type": "code",
   "execution_count": 11,
   "metadata": {
    "collapsed": true
   },
   "outputs": [],
   "source": [
    "from sklearn.decomposition import LatentDirichletAllocation"
   ]
  },
  {
   "cell_type": "code",
   "execution_count": 12,
   "metadata": {
    "collapsed": true
   },
   "outputs": [],
   "source": [
    "no_topics = 10\n",
    "lda = LatentDirichletAllocation(n_components = no_topics, max_iter=5,learning_method='online',learning_offset=50.,random_state=0)"
   ]
  },
  {
   "cell_type": "code",
   "execution_count": 13,
   "metadata": {},
   "outputs": [
    {
     "data": {
      "text/plain": [
       "LatentDirichletAllocation(batch_size=128, doc_topic_prior=None,\n",
       "             evaluate_every=-1, learning_decay=0.7,\n",
       "             learning_method='online', learning_offset=50.0,\n",
       "             max_doc_update_iter=100, max_iter=5, mean_change_tol=0.001,\n",
       "             n_components=10, n_jobs=1, n_topics=None, perp_tol=0.1,\n",
       "             random_state=0, topic_word_prior=None,\n",
       "             total_samples=1000000.0, verbose=0)"
      ]
     },
     "execution_count": 13,
     "metadata": {},
     "output_type": "execute_result"
    }
   ],
   "source": [
    "lda.fit(text_transform)"
   ]
  },
  {
   "cell_type": "code",
   "execution_count": 18,
   "metadata": {},
   "outputs": [
    {
     "name": "stdout",
     "output_type": "stream",
     "text": [
      "\n",
      "Topic #0:br of the in to is and that you for are or as your from with an which by be on product their no food about natur ha can more gum if blue per weight high also health there machin most those contain pill than ounc serv may here less use amount take help each at need diet have two mani do level me 10 peopl who low what diabet blood been provid day consum onli note effect includ 12 thing one bodi caus kitti own addit should reduc cost benefit label compani ad content import found 100 year increas us calori organ mean point life recommend such other into ani daili sourc see all pure research healthi 50 gram ingredi re over system 20 15 then manufactur three consid heart energi avoid gener follow some person make without call pound sugar etc total lose inform new carb line read review vitamin diamond powder measur while standard least lower allow number result list control 30 non diseas world updat same pro chang loss produc unit whi market fact digest possibl pleas size simpli doe meal thank part bring check aid nutrit issu might claim under class how between four higher min find base whole comment where known chemic 40 term well due raw say requir small longer maintain interest differ brown book 45 type form abov complet normal safe live suggest 25 within side question state after not dose muscl cancer improv young water experi main cinnamon essenti medic offer prepar cours five reason recent now rememb supplement yourself long keep altern short both chewer basic refriger liter avail combin ideal larg warn ate intak come name start websit until mention cover eat creat elimin choic rate similar true ye guy site few kit place prevent 11 alcohol fat absorb\n",
      "======================================================================\n",
      "\n",
      "Topic #1:it tea and is the thi of tast to drink flavor for with like you water in my but have that not ha good as sugar veri tri or love green sweet great me use so one coconut if make sweeten can other just ice more realli than all also recommend too ve bottl no energi an much enjoy honey better cup juic best milk black mix be some bag lemon littl natur caffein strong am nice hot product ad soda add chai get even day at ani are favorit doe don well from brand cold after orang which when bitter mint without ginger onli stevia stash will artifici drinker been licoric delici organ find morn give refresh wonder powder light fruit feel bit want lot doesn becaus definit by brew found differ highli aftertast packet most grey need leav prefer calori do beverag earl mango there splenda mani benefit raspberri time would blend steep health diet smooth help way perfect appl loos peach your regular think far leaf latt cappuccino glass usual red everi real matcha white peppermint look syrup who qualiti now alway machin herbal smell spice come quit go crystal especi both while berri oz ever year fresh up plain pure on excel fan color over enough aroma sinc breakfast drank full long flower still vitamin sip those pomegran mild cherri boost lipton relax hint work less amaz right had actual tasti altern english then free pleasant effect pour fruiti first teaspoon high though ph root about take subtl bodi mio concentr almost amount addit isn lime compar punch friend seem grape jasmin workout summer sucralos chamomil combin price overpow stronger essentia keep cool healthi afternoon serv strawberri pretti ll carbon made someth howev sooth smoothi cider enhanc teabag weak substitut never hydrat few bergamot instead calm\n",
      "======================================================================\n",
      "\n",
      "Topic #2:the and to it for in thi my wa amazon is have at order on we price store of product so buy from them they great find love can with time box ship veri when had purchas as get will these local were bag been year that now good our pack use bought be are found again am best one groceri you thank packag but arriv than more save all out onli me here day receiv month item about no happi not up go gift carri would got ve sinc deal just last alway much fresh case came through avail make by back could everi over well what friend cheaper first cost never famili free home an look fast sell abl subscrib onlin qualiti ago ha two same excel 12 glad ever stock pleas deliveri live servic us tri few pay hard favorit deliv everyon place where come better recommend each wonder date their even expens candi way perfect went ani sever week quickli befor bulk around compani com some keep wrap becaus long brand mani enjoy 10 per less plan oz also delici christma seller shipment custom money reason shop husband stop need wish sale pound longer offer sent size couldn see expir jar then run new definit right after anoth other wait search conveni market who continu sold worth next quick 00 old area recent supermarket absolut there condit 50 99 made work hope want daughter hous still until 24 ask easi larg soon do anywher valu coupl wife how problem did amaz send onc subscript know parti hook decid individu dollar which bottl ounc whole prime too discov line kid rememb mother nice highli 20 brought big while charg realli trip costco such lot bring check start without gone beat suppli three almost exactli far both open\n",
      "======================================================================\n",
      "\n",
      "Topic #3:it the to and in use my for you thi on of with is have out up make get work so or when time that your just can take if into put me as day then water but oil after cook littl at about need some minut bottl will go well all keep hour do stuff be way product don easi also start hair long great add befor down off few help over feel one first open ve thing mix even around week tri more last realli now come like top an turn want how much becaus doe hand ha enough cut veri let smell while leav back onli everi jar dri two clean bit been without too end night onc doesn babi plastic sit skin lot through run small next right goe until powder bowl squeez sure half clear had nice side problem still coupl liquid microwav rice ll not ani from contain stomach no give mouth hard month got seem easili heat hold someth abl place away spoon sleep own sinc everyth home fine sometim second pop drop fill plant wash roll result anyth look direct done shampoo later lid quickli ball kitchen set re took wonder thick easier know stay glass instruct pull better extra readi room recommend other mess effect remov grow dish did insid usual nose care left think larg say wait dure am hot warm made alway face notic amount bottom scalp which throw scratch pain break bed sever scoop veggi moistur than anoth could didn part stick see good where we pot scent pretti rest there watch wa eye trap seal fun head year sprinkl big instead job cap rins couldn 30 meal soft under hous litter almost either cube paper etc fall stop togeth life whole whatev along ground kept cold continu\n",
      "======================================================================\n",
      "\n",
      "Topic #4:mix ingredi free protein oil sugar organ product bread corn fat milk bake syrup flour soy gluten seed recip cake wheat contain vitamin made egg list sodium grain shake fiber pancak red extract wine preserv acid nutrit waffl mapl sourc cherri dairi magnesium grade white mill color almond yeast serv vegan process veget muffin bob calcium xylitol also beer pan calori satur juic cholesterol substitut hemp sunflow iron pie total kraft includ malt tran dietari cane blueberri fruit artifici dough wasabi memori per starch omega smoothi base supplement hydrogen potassium whey palm butter tablespoon studi valu carrot follow salmon citric barley nutrient msg miner oven batter cacao ham jam cocoa pud loaf 5g bird seawe soybean rise ounc passion intoler kosher lo clam lt concentr purpl certifi pearl lactos ferment metabol flaxse goji pamela dave evapor carbohydr websit chlorid lump b12 2g bagel lecithin liquid crab maltodextrin daili bank beet taurin sulfat deriv lobster partial amino ant modifi 0g berri dha caviar arsen kefir belgian requir current tapioca 3g crude oxid de signatur 1g brazil buckwheat david sensit zinc accord b6 tradit buttermilk produc skim dare con cow com phosphat nib browni chowder condens american further incorpor menadion oregon safflow allergen copper 100 culinari 72 4g carbon discard such hfc skillet muesli cultur casein major scone form filet sprinkl whip gallon path glutam bicarbon monkey 1st lean nori fortifi niacin dioxid rosemari thiamin 40 strawberri antioxid solid tocopherol scotch dextros provid synthet usda custard anti germ isol dvd 6g shorten 32 glen picnic muir amber roach agav honey riboflavin 10g celebr folic walker barney fyi 62 yo dryness max polenta hexan nana la standard cal tart na sourdough sushi ascorb loav analysi xanthan glycerin arrowhead 140 manganes guarante pint mi dryer agent summari millet lotu 240 multi spray scrambl teff\n",
      "======================================================================\n",
      "\n",
      "Topic #5:and food dog my the to she he for cat is treat her they love it thi them we of have eat with that hi are ha so these our him one can but on all like feed in as old chicken get their give well year chew tri up dri had other will pet when been about veri more now day onli no month formula not recommend becaus also vet babi seem ingredi at littl healthi diet do good brand two great who wa problem even would much time after sinc bone both product puppi start out too train ani teeth small happi smell realli just or toy picki switch mix grain meat allergi than best size ve everi qualiti be alway from some natur look which keep over salmon bag week by made last few doesn never coat your down free expens son help stomach piec meal go ate newman fish issu an organ digest three wet highli don know got kibbl make enjoy lot weight if anyth most find clean better beef thing mani pocket eater want scienc liver still pound differ doe long found then lick lab sever while around lb us use back gave first were larg fed less high human bit ball kitten longer anim research big think chang need new sensit bowl own put walk health turkey absolut varieti me work crazi stool come went away hous filler buy greeni breath stop see older run ago pup soft bought right rawhid morn actual am smaller 10 usual take rice what until vomit friend decid feel owner sick each far adult almost took dental told purina outsid break hard prefer duck refus yr half definit em life potato play raw into reward skin gobbl protein zuke lamb stuff breed china ear said hungri onc\n",
      "======================================================================\n",
      "\n",
      "Topic #6:salt chip popcorn potato pepper salti season chees flavor meat fit vinegar bag fri kettl pop sea onion bbq gummi smoke sour steak frozen flavour bear tomato mustard pizza popchip cheddar cook pork brand bill sausag white kernel tender sodium wafer truffl origin lime core hasn jim color indulg pink greasi burger supplier outsid superb chop wing style msg tangi men ketchup gold buffalo link barbecu haribo hamburg yellow tray lay miso dirti ounc paprika ring gourmet recomend imag board durabl disappoint are lightli and balsam cheesi ined altoid thai savori uk uniqu 2010 perfectli barbequ poultri smokey tim lover 85 spray smokehous fruitcak smoki coat st bun kosher dijon leather favourit beetlejuic delect plain the murray lie enhanc snackwel kick transact hickori garden oili their thaw cucumb west dutch worm heinz bamboo celeri omaha nom rancher crown spanish marmit fan coars blast strong bite german 5th tongu taylor polish primal on tradit sharp vegemit except chomp tough burton marmalad fillet disk deep jerkey york martini swim plate stuffer devil barrel bragg silver en kale pepperi overbear speci frito princ pringl coin flake rosemari santa pound bend sheen rind pucker chipotl rememb keaton boneless tang grate 1oz ohio curli oh colour chore curl scottish 89 artisan authent glycol oberto chi seafood clever giant oak vegi vinegari mixtur cajun variti backyard propylen smart bon contrast molass oregano casual lowest side au maggi deli crisp patak burnt ref simpli moreov bleu festiv tom thicker un major whiskey chutney compliment ruin creek rocki trueli rainbow krinkl complement sting fashion top le technolog baldwin iodin ridg skinless funni tin knew whirl book muncho paul mesquit moist spendi cod sand thin mega que necco staci dragon chile semi flavacol slot yummyearth chive jimmi sr sirloin float forget 10lb delicaci alec thinli food molecul wood of\n",
      "======================================================================\n",
      "\n",
      "Topic #7:and the are these they of to them you is for tast like in but have with my good eat flavor that not love great as chocol snack so bar or cooki just one too veri sweet if tri on all can be butter re than realli peanut littl make other don calori cereal delici more thi it healthi textur best also bag tasti get some kid onli much chip sugar better ve your nut when candi fruit me go will favorit at free low were perfect there enjoy even nice bit whole becaus fat size food do would no recommend crunchi almond cracker out oatmeal think treat hard gluten well lot regular want most dri thing up buy which an pack fill enough serv definit ha kind right soft satisfi find about without someth packag those am ani box chewi we small high who pasta yummi natur give meal protein fresh lunch by keep mani crunch feel pretti way breakfast chees rice piec carb diet ever milk wonder oat real though granola big easi appl bite need quit while famili look quick banana ll each come crave still varieti organ their cinnamon alway fiber few into highli far from bake ad actual addict add time hand cream mouth what altern raisin prefer light aren eaten dark found absolut melt mix amount pretzel less spici ingredi made differ say then gram especi yogurt know honey healthier crisp stick both blueberri fan usual use put over strawberri plain everi daughter almost full sinc dip caramel crispi husband pouch everyon could excel brand amaz pop plu had awesom moist howev thin oreo movi combin slice probabl vanilla son take nutrit top again toast sandwich pumpkin health won fact super yum bad chew wheat worth veggi tart individu jelli myself two never crumbl\n",
      "======================================================================\n",
      "\n"
     ]
    },
    {
     "name": "stdout",
     "output_type": "stream",
     "text": [
      "Topic #8:the it that to wa not of thi but is and be like would in as product had tast if have so you what one there just tri review on other with good all can me they from becaus did say don for more buy at were no will know do think about some realli onli first didn look out bad thought veri packag again which much when than star flavor disappoint am could after even someth or differ box same how get bag ani expect sure howev thing want read give seem still purchas by brand my got better made bought see an actual order should open never though stuff doe said befor ha smell go wasn mayb whi ll probabl hope off up pretti are peopl way anoth might noth won their too may money qualiti then bit compani ve jerki decid notic guess away anyth most littl isn doesn either kind time problem quit fine sinc price food well receiv new now been gave ok real wast rate chang surpris who back els ingredi end lot care label two wouldn fact case worth came item enough list reason contain tell come almost instead cheap call rather unfortun ever pictur least descript color suppos stale someon here person concern wrong believ return mean type version although origin anyway those wish test stick took experi horribl less old let terribl mention happen aw itself where mani big overal realiz idea appear while saw base small second must feel appreci normal felt myself expens impress regular pay consid name whole far find process okay figur unless left pleas perhap state close down three piec issu past pack understand complet tuna batch compar given plastic beef re excit hate high advertis anyon dent worst point certainli ye rest such sound due\n",
      "======================================================================\n",
      "\n",
      "Topic #9:the coffe and is it of thi cup to flavor for you with my tast in like but not have good that use tri as one sauc make hot veri great bean roast or blend ha strong on if just best love brew dark can be www http other gp href soup so favorit com too vanilla bold ve we bitter amazon pod keurig all chocol more than enjoy are product add smooth some brand starbuck will realli nice rich at french pack spice drink also an up morn cream chicken better recommend decaf littl green espresso medium much ground differ me maker when prefer even by no spici from perfect cocoa mountain varieti extra well mani your full black delici want get ani instant found most chili don weak ad aroma own which rice oliv would far water without find bit wonder serv who excel dish right out mix heat go salad our hazelnut over definit noodl italian there ever brewer pot packet onli am fresh regular lot hous ounc made mild way cook price milk come garlic buy been light breakfast grind senseo highli those pasta then do usual dress still top give curri peopl everi organ set time creamer alway easi stir enough new half both magic prepar think choic singl after oz creami husband boil restaur now pour shop qualiti had first donut two while home type ll bodi acid size mocha doe quit cinnamon tomato look tasti need stronger real broth work absolut what their recip whole less filter count powder caramel doesn re kona compar kick amount put fine fan about smell big say mug never sweet grill sever past fuel yet puck timothi lavazza tulli becaus season cafe wife veget especi few ice wolfgang press howev almost conveni aftertast base isn jet sinc\n",
      "======================================================================\n"
     ]
    }
   ],
   "source": [
    "def print_topics(model, feature_names, top_words):\n",
    "    for index, topic in enumerate(model.components_):\n",
    "        message = \"\\nTopic #{}:\".format(index)\n",
    "        message += \" \".join([feature_names[i] for i in topic.argsort()[:-top_words - 1 :-1]])\n",
    "        print(message)\n",
    "        print(\"=\"*70)\n",
    "\n",
    "top_words = 300\n",
    "feature_names = vectorizer.get_feature_names()\n",
    "print_topics(lda,feature_names,top_words)"
   ]
  },
  {
   "cell_type": "code",
   "execution_count": 15,
   "metadata": {},
   "outputs": [
    {
     "ename": "ImportError",
     "evalue": "cannot import name 'Filelink'",
     "output_type": "error",
     "traceback": [
      "\u001b[1;31m---------------------------------------------------------------------------\u001b[0m",
      "\u001b[1;31mImportError\u001b[0m                               Traceback (most recent call last)",
      "\u001b[1;32m<ipython-input-15-c70b334271dc>\u001b[0m in \u001b[0;36m<module>\u001b[1;34m()\u001b[0m\n\u001b[1;32m----> 1\u001b[1;33m \u001b[1;32mfrom\u001b[0m \u001b[0mIPython\u001b[0m\u001b[1;33m.\u001b[0m\u001b[0mdisplay\u001b[0m \u001b[1;32mimport\u001b[0m \u001b[0mFilelink\u001b[0m\u001b[1;33m,\u001b[0m \u001b[0mFileLinks\u001b[0m\u001b[1;33m\u001b[0m\u001b[0m\n\u001b[0m\u001b[0;32m      2\u001b[0m \u001b[1;33m\u001b[0m\u001b[0m\n\u001b[0;32m      3\u001b[0m \u001b[0mp_df\u001b[0m\u001b[1;33m.\u001b[0m\u001b[0mto_csv\u001b[0m\u001b[1;33m(\u001b[0m\u001b[1;34m'C:/Users/Rahul/Downloads/data.csv'\u001b[0m\u001b[1;33m,\u001b[0m \u001b[0mindex\u001b[0m\u001b[1;33m=\u001b[0m\u001b[1;32mFalse\u001b[0m\u001b[1;33m)\u001b[0m\u001b[1;33m\u001b[0m\u001b[0m\n\u001b[0;32m      4\u001b[0m \u001b[0mp_df\u001b[0m\u001b[1;33m.\u001b[0m\u001b[0mto_excel\u001b[0m\u001b[1;33m(\u001b[0m\u001b[1;34m'C:/Users/Rahul/Downloads/data.xlsx'\u001b[0m\u001b[1;33m,\u001b[0m \u001b[0mindex\u001b[0m\u001b[1;33m=\u001b[0m\u001b[1;32mFalse\u001b[0m\u001b[1;33m)\u001b[0m\u001b[1;33m\u001b[0m\u001b[0m\n\u001b[0;32m      5\u001b[0m \u001b[1;33m\u001b[0m\u001b[0m\n",
      "\u001b[1;31mImportError\u001b[0m: cannot import name 'Filelink'"
     ]
    }
   ],
   "source": [
    "from IPython.display import Filelink, FileLinks\n",
    "\n",
    "p_df.to_csv('C:/Users/Rahul/Downloads/data.csv', index=False)\n",
    "p_df.to_excel('C:/Users/Rahul/Downloads/data.xlsx', index=False)\n",
    "\n",
    "FileLinks('C:/Users/Rahul/Downloads/')"
   ]
  },
  {
   "cell_type": "code",
   "execution_count": 16,
   "metadata": {},
   "outputs": [
    {
     "data": {
      "text/html": [
       "<a download=\"data.csv\" href=\"data:text/csv;base64,LENvbCAxLENvbCAyCjAsMSwyCjEsMyw0Cg==\" target=\"_blank\">Download CSV file</a>"
      ],
      "text/plain": [
       "<IPython.core.display.HTML object>"
      ]
     },
     "execution_count": 16,
     "metadata": {},
     "output_type": "execute_result"
    }
   ],
   "source": [
    "import base64\n",
    "import pandas as pd\n",
    "from IPython.display import HTML\n",
    "\n",
    "def create_download_link( df, title = \"Download CSV file\", filename = \"data.csv\"):\n",
    "    csv = df.to_csv()\n",
    "    b64 = base64.b64encode(csv.encode())\n",
    "    payload = b64.decode()\n",
    "    html = '<a download=\"{filename}\" href=\"data:text/csv;base64,{payload}\" target=\"_blank\">{title}</a>'\n",
    "    html = html.format(payload=payload,title=title,filename=filename)\n",
    "    return HTML(html)\n",
    "\n",
    "df = pd.DataFrame(data = [[1,2],[3,4]], columns=['Col 1', 'Col 2'])\n",
    "create_download_link(df)"
   ]
  }
 ],
 "metadata": {
  "kernelspec": {
   "display_name": "Python 3",
   "language": "python",
   "name": "python3"
  },
  "language_info": {
   "codemirror_mode": {
    "name": "ipython",
    "version": 3
   },
   "file_extension": ".py",
   "mimetype": "text/x-python",
   "name": "python",
   "nbconvert_exporter": "python",
   "pygments_lexer": "ipython3",
   "version": "3.6.4"
  }
 },
 "nbformat": 4,
 "nbformat_minor": 2
}
